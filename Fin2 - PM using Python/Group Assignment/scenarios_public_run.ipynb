{
 "cells": [
  {
   "cell_type": "code",
   "execution_count": 1,
   "metadata": {},
   "outputs": [
    {
     "data": {
      "text/plain": [
       "ModelInputs(starting_salary=60000, promos_every_n_years=5, cost_of_living_raise=0.02, promo_raise=0.15, savings_rate=0.25, interest_rate=0.05, desired_cash=1500000)"
      ]
     },
     "execution_count": 1,
     "metadata": {},
     "output_type": "execute_result"
    }
   ],
   "source": [
    "from dataclasses import dataclass\n",
    "from sensitivity import SensitivityAnalyzer\n",
    "import pandas as pd\n",
    "\n",
    "@dataclass\n",
    "class ModelInputs:\n",
    "    starting_salary: int = 60000\n",
    "    promos_every_n_years: int = 5\n",
    "    cost_of_living_raise: float = 0.02\n",
    "    promo_raise: float = 0.15\n",
    "    savings_rate: float = 0.25\n",
    "    interest_rate: float = 0.05\n",
    "    desired_cash: int = 1500000\n",
    "        \n",
    "model_data = ModelInputs()\n",
    "model_data"
   ]
  },
  {
   "cell_type": "code",
   "execution_count": 2,
   "metadata": {},
   "outputs": [],
   "source": [
    "def salary_at_year(data: ModelInputs, year):\n",
    "    \"\"\"\n",
    "    Gets the salary at a given year from the start of the model based on cost of living raises and regular promotions.\n",
    "    \"\"\"\n",
    "    # Every n years we have a promotion, so dividing the years and taking out the decimals gets the number of promotions\n",
    "    num_promos = int(year / data.promos_every_n_years)\n",
    "    salary_t = data.starting_salary * (1 + data.cost_of_living_raise) ** year * (1 + data.promo_raise) ** num_promos\n",
    "    return salary_t"
   ]
  },
  {
   "cell_type": "code",
   "execution_count": 3,
   "metadata": {},
   "outputs": [
    {
     "name": "stdout",
     "output_type": "stream",
     "text": [
      "The salary at year 1 is $61,200.\n",
      "The salary at year 2 is $62,424.\n",
      "The salary at year 3 is $63,672.\n",
      "The salary at year 4 is $64,946.\n",
      "The salary at year 5 is $76,182.\n",
      "The salary at year 6 is $77,705.\n"
     ]
    }
   ],
   "source": [
    "for i in range(6):\n",
    "    year = i + 1\n",
    "    salary = salary_at_year(model_data, year)\n",
    "    print(f'The salary at year {year} is ${salary:,.0f}.')"
   ]
  },
  {
   "cell_type": "code",
   "execution_count": 4,
   "metadata": {},
   "outputs": [],
   "source": [
    "def cash_saved_during_year(data: ModelInputs, year):\n",
    "    \"\"\"\n",
    "    Calculated the cash saved within a given year, by first calculating the salary at that year then applying the \n",
    "    savings rate.\n",
    "    \"\"\"\n",
    "    salary = salary_at_year(data, year)\n",
    "    cash_saved = salary * data.savings_rate\n",
    "    return cash_saved"
   ]
  },
  {
   "cell_type": "code",
   "execution_count": 5,
   "metadata": {},
   "outputs": [],
   "source": [
    "def wealth_at_year(data: ModelInputs, year, prior_wealth):\n",
    "    \"\"\"\n",
    "    Calculate the accumulated wealth for a given year, based on previous wealth, the investment rate,\n",
    "    and cash saved during the year.\n",
    "    \"\"\"\n",
    "    cash_saved = cash_saved_during_year(data, year)\n",
    "    wealth = prior_wealth * (1 + data.interest_rate) + cash_saved\n",
    "    return wealth"
   ]
  },
  {
   "cell_type": "code",
   "execution_count": 6,
   "metadata": {},
   "outputs": [
    {
     "name": "stdout",
     "output_type": "stream",
     "text": [
      "The wealth at year 1 is $15,300.\n",
      "The wealth at year 2 is $31,671.\n",
      "The wealth at year 3 is $49,173.\n",
      "The wealth at year 4 is $67,868.\n",
      "The wealth at year 5 is $90,307.\n",
      "The wealth at year 6 is $114,248.\n"
     ]
    }
   ],
   "source": [
    "prior_wealth = 0  # starting with no cash saved\n",
    "for i in range(6):\n",
    "    year = i + 1\n",
    "    wealth = wealth_at_year(model_data, year, prior_wealth)\n",
    "    print(f'The wealth at year {year} is ${wealth:,.0f}.')\n",
    "    \n",
    "    # Set next year's prior wealth to this year's wealth\n",
    "    prior_wealth = wealth"
   ]
  },
  {
   "cell_type": "code",
   "execution_count": 7,
   "metadata": {},
   "outputs": [],
   "source": [
    "def years_to_retirement(data: ModelInputs, print_output=True):\n",
    "    \n",
    "    # starting with no cash saved\n",
    "    prior_wealth = 0  \n",
    "    wealth = 0\n",
    "    \n",
    "    year = 0\n",
    "    \n",
    "    if print_output:\n",
    "        print('Wealths over time:')\n",
    "    while wealth < data.desired_cash:\n",
    "        year = year + 1\n",
    "        wealth = wealth_at_year(data, year, prior_wealth)\n",
    "        if print_output:\n",
    "            print(f'The wealth at year {year} is ${wealth:,.0f}.')\n",
    "\n",
    "        # Set next year's prior wealth to this year's wealth\n",
    "        prior_wealth = wealth\n",
    "        \n",
    "    # Now we have exited the while loop, so wealth must be >= desired_cash. Whatever last year was set\n",
    "    # is the years to retirement.\n",
    "    if print_output:\n",
    "        print(f'\\nRetirement:\\nIt will take {year} years to retire.')  # \\n makes a blank line in the output.\n",
    "    return year"
   ]
  },
  {
   "cell_type": "code",
   "execution_count": 8,
   "metadata": {},
   "outputs": [
    {
     "name": "stdout",
     "output_type": "stream",
     "text": [
      "Wealths over time:\n",
      "The wealth at year 1 is $15,300.\n",
      "The wealth at year 2 is $31,671.\n",
      "The wealth at year 3 is $49,173.\n",
      "The wealth at year 4 is $67,868.\n",
      "The wealth at year 5 is $90,307.\n",
      "The wealth at year 6 is $114,248.\n",
      "The wealth at year 7 is $139,775.\n",
      "The wealth at year 8 is $166,975.\n",
      "The wealth at year 9 is $195,939.\n",
      "The wealth at year 10 is $229,918.\n",
      "The wealth at year 11 is $266,080.\n",
      "The wealth at year 12 is $304,542.\n",
      "The wealth at year 13 is $345,431.\n",
      "The wealth at year 14 is $388,878.\n",
      "The wealth at year 15 is $439,025.\n",
      "The wealth at year 16 is $492,294.\n",
      "The wealth at year 17 is $548,853.\n",
      "The wealth at year 18 is $608,878.\n",
      "The wealth at year 19 is $672,557.\n",
      "The wealth at year 20 is $745,168.\n",
      "The wealth at year 21 is $822,190.\n",
      "The wealth at year 22 is $903,859.\n",
      "The wealth at year 23 is $990,422.\n",
      "The wealth at year 24 is $1,082,140.\n",
      "The wealth at year 25 is $1,185,745.\n",
      "The wealth at year 26 is $1,295,520.\n",
      "The wealth at year 27 is $1,411,793.\n",
      "The wealth at year 28 is $1,534,910.\n",
      "\n",
      "Retirement:\n",
      "It will take 28 years to retire.\n"
     ]
    }
   ],
   "source": [
    "years = years_to_retirement(model_data)"
   ]
  },
  {
   "cell_type": "code",
   "execution_count": 9,
   "metadata": {},
   "outputs": [],
   "source": [
    "def get_salaries_wealths_df(data):\n",
    "    \"\"\"\n",
    "    Runs the retirement model, collecting salary and wealth information year by year and storing\n",
    "    into a DataFrame for further analysis.\n",
    "    \"\"\"\n",
    "    # starting with no cash saved\n",
    "    prior_wealth = 0  \n",
    "    wealth = 0\n",
    "    \n",
    "    year = 0\n",
    "    \n",
    "    df_data_tups = []\n",
    "    while wealth < data.desired_cash:\n",
    "        year = year + 1\n",
    "        salary = salary_at_year(data, year)\n",
    "        wealth = wealth_at_year(data, year, prior_wealth)\n",
    "\n",
    "        # Set next year's prior wealth to this year's wealth\n",
    "        prior_wealth = wealth\n",
    "        df_data_tups.append((year, salary, wealth))\n",
    "        \n",
    "    df = pd.DataFrame(df_data_tups, columns=['Year', 'Salary', 'Wealth'])\n",
    "    \n",
    "    return df"
   ]
  },
  {
   "cell_type": "code",
   "execution_count": 10,
   "metadata": {},
   "outputs": [],
   "source": [
    "def styled_salaries_wealths(df):\n",
    "    return df.style.format({\n",
    "        'Salary': '${:,.2f}',\n",
    "        'Wealth': '${:,.2f}'\n",
    "    })"
   ]
  },
  {
   "cell_type": "code",
   "execution_count": 11,
   "metadata": {},
   "outputs": [
    {
     "data": {
      "text/html": [
       "<style type=\"text/css\">\n",
       "</style>\n",
       "<table id=\"T_d5331\">\n",
       "  <thead>\n",
       "    <tr>\n",
       "      <th class=\"blank level0\" >&nbsp;</th>\n",
       "      <th id=\"T_d5331_level0_col0\" class=\"col_heading level0 col0\" >Year</th>\n",
       "      <th id=\"T_d5331_level0_col1\" class=\"col_heading level0 col1\" >Salary</th>\n",
       "      <th id=\"T_d5331_level0_col2\" class=\"col_heading level0 col2\" >Wealth</th>\n",
       "    </tr>\n",
       "  </thead>\n",
       "  <tbody>\n",
       "    <tr>\n",
       "      <th id=\"T_d5331_level0_row0\" class=\"row_heading level0 row0\" >0</th>\n",
       "      <td id=\"T_d5331_row0_col0\" class=\"data row0 col0\" >1</td>\n",
       "      <td id=\"T_d5331_row0_col1\" class=\"data row0 col1\" >$61,200.00</td>\n",
       "      <td id=\"T_d5331_row0_col2\" class=\"data row0 col2\" >$15,300.00</td>\n",
       "    </tr>\n",
       "    <tr>\n",
       "      <th id=\"T_d5331_level0_row1\" class=\"row_heading level0 row1\" >1</th>\n",
       "      <td id=\"T_d5331_row1_col0\" class=\"data row1 col0\" >2</td>\n",
       "      <td id=\"T_d5331_row1_col1\" class=\"data row1 col1\" >$62,424.00</td>\n",
       "      <td id=\"T_d5331_row1_col2\" class=\"data row1 col2\" >$31,671.00</td>\n",
       "    </tr>\n",
       "    <tr>\n",
       "      <th id=\"T_d5331_level0_row2\" class=\"row_heading level0 row2\" >2</th>\n",
       "      <td id=\"T_d5331_row2_col0\" class=\"data row2 col0\" >3</td>\n",
       "      <td id=\"T_d5331_row2_col1\" class=\"data row2 col1\" >$63,672.48</td>\n",
       "      <td id=\"T_d5331_row2_col2\" class=\"data row2 col2\" >$49,172.67</td>\n",
       "    </tr>\n",
       "    <tr>\n",
       "      <th id=\"T_d5331_level0_row3\" class=\"row_heading level0 row3\" >3</th>\n",
       "      <td id=\"T_d5331_row3_col0\" class=\"data row3 col0\" >4</td>\n",
       "      <td id=\"T_d5331_row3_col1\" class=\"data row3 col1\" >$64,945.93</td>\n",
       "      <td id=\"T_d5331_row3_col2\" class=\"data row3 col2\" >$67,867.79</td>\n",
       "    </tr>\n",
       "    <tr>\n",
       "      <th id=\"T_d5331_level0_row4\" class=\"row_heading level0 row4\" >4</th>\n",
       "      <td id=\"T_d5331_row4_col0\" class=\"data row4 col0\" >5</td>\n",
       "      <td id=\"T_d5331_row4_col1\" class=\"data row4 col1\" >$76,181.58</td>\n",
       "      <td id=\"T_d5331_row4_col2\" class=\"data row4 col2\" >$90,306.57</td>\n",
       "    </tr>\n",
       "    <tr>\n",
       "      <th id=\"T_d5331_level0_row5\" class=\"row_heading level0 row5\" >5</th>\n",
       "      <td id=\"T_d5331_row5_col0\" class=\"data row5 col0\" >6</td>\n",
       "      <td id=\"T_d5331_row5_col1\" class=\"data row5 col1\" >$77,705.21</td>\n",
       "      <td id=\"T_d5331_row5_col2\" class=\"data row5 col2\" >$114,248.20</td>\n",
       "    </tr>\n",
       "    <tr>\n",
       "      <th id=\"T_d5331_level0_row6\" class=\"row_heading level0 row6\" >6</th>\n",
       "      <td id=\"T_d5331_row6_col0\" class=\"data row6 col0\" >7</td>\n",
       "      <td id=\"T_d5331_row6_col1\" class=\"data row6 col1\" >$79,259.31</td>\n",
       "      <td id=\"T_d5331_row6_col2\" class=\"data row6 col2\" >$139,775.44</td>\n",
       "    </tr>\n",
       "    <tr>\n",
       "      <th id=\"T_d5331_level0_row7\" class=\"row_heading level0 row7\" >7</th>\n",
       "      <td id=\"T_d5331_row7_col0\" class=\"data row7 col0\" >8</td>\n",
       "      <td id=\"T_d5331_row7_col1\" class=\"data row7 col1\" >$80,844.50</td>\n",
       "      <td id=\"T_d5331_row7_col2\" class=\"data row7 col2\" >$166,975.33</td>\n",
       "    </tr>\n",
       "    <tr>\n",
       "      <th id=\"T_d5331_level0_row8\" class=\"row_heading level0 row8\" >8</th>\n",
       "      <td id=\"T_d5331_row8_col0\" class=\"data row8 col0\" >9</td>\n",
       "      <td id=\"T_d5331_row8_col1\" class=\"data row8 col1\" >$82,461.39</td>\n",
       "      <td id=\"T_d5331_row8_col2\" class=\"data row8 col2\" >$195,939.45</td>\n",
       "    </tr>\n",
       "    <tr>\n",
       "      <th id=\"T_d5331_level0_row9\" class=\"row_heading level0 row9\" >9</th>\n",
       "      <td id=\"T_d5331_row9_col0\" class=\"data row9 col0\" >10</td>\n",
       "      <td id=\"T_d5331_row9_col1\" class=\"data row9 col1\" >$96,727.21</td>\n",
       "      <td id=\"T_d5331_row9_col2\" class=\"data row9 col2\" >$229,918.22</td>\n",
       "    </tr>\n",
       "    <tr>\n",
       "      <th id=\"T_d5331_level0_row10\" class=\"row_heading level0 row10\" >10</th>\n",
       "      <td id=\"T_d5331_row10_col0\" class=\"data row10 col0\" >11</td>\n",
       "      <td id=\"T_d5331_row10_col1\" class=\"data row10 col1\" >$98,661.75</td>\n",
       "      <td id=\"T_d5331_row10_col2\" class=\"data row10 col2\" >$266,079.57</td>\n",
       "    </tr>\n",
       "    <tr>\n",
       "      <th id=\"T_d5331_level0_row11\" class=\"row_heading level0 row11\" >11</th>\n",
       "      <td id=\"T_d5331_row11_col0\" class=\"data row11 col0\" >12</td>\n",
       "      <td id=\"T_d5331_row11_col1\" class=\"data row11 col1\" >$100,634.99</td>\n",
       "      <td id=\"T_d5331_row11_col2\" class=\"data row11 col2\" >$304,542.29</td>\n",
       "    </tr>\n",
       "    <tr>\n",
       "      <th id=\"T_d5331_level0_row12\" class=\"row_heading level0 row12\" >12</th>\n",
       "      <td id=\"T_d5331_row12_col0\" class=\"data row12 col0\" >13</td>\n",
       "      <td id=\"T_d5331_row12_col1\" class=\"data row12 col1\" >$102,647.69</td>\n",
       "      <td id=\"T_d5331_row12_col2\" class=\"data row12 col2\" >$345,431.33</td>\n",
       "    </tr>\n",
       "    <tr>\n",
       "      <th id=\"T_d5331_level0_row13\" class=\"row_heading level0 row13\" >13</th>\n",
       "      <td id=\"T_d5331_row13_col0\" class=\"data row13 col0\" >14</td>\n",
       "      <td id=\"T_d5331_row13_col1\" class=\"data row13 col1\" >$104,700.64</td>\n",
       "      <td id=\"T_d5331_row13_col2\" class=\"data row13 col2\" >$388,878.06</td>\n",
       "    </tr>\n",
       "    <tr>\n",
       "      <th id=\"T_d5331_level0_row14\" class=\"row_heading level0 row14\" >14</th>\n",
       "      <td id=\"T_d5331_row14_col0\" class=\"data row14 col0\" >15</td>\n",
       "      <td id=\"T_d5331_row14_col1\" class=\"data row14 col1\" >$122,813.85</td>\n",
       "      <td id=\"T_d5331_row14_col2\" class=\"data row14 col2\" >$439,025.42</td>\n",
       "    </tr>\n",
       "    <tr>\n",
       "      <th id=\"T_d5331_level0_row15\" class=\"row_heading level0 row15\" >15</th>\n",
       "      <td id=\"T_d5331_row15_col0\" class=\"data row15 col0\" >16</td>\n",
       "      <td id=\"T_d5331_row15_col1\" class=\"data row15 col1\" >$125,270.13</td>\n",
       "      <td id=\"T_d5331_row15_col2\" class=\"data row15 col2\" >$492,294.23</td>\n",
       "    </tr>\n",
       "    <tr>\n",
       "      <th id=\"T_d5331_level0_row16\" class=\"row_heading level0 row16\" >16</th>\n",
       "      <td id=\"T_d5331_row16_col0\" class=\"data row16 col0\" >17</td>\n",
       "      <td id=\"T_d5331_row16_col1\" class=\"data row16 col1\" >$127,775.53</td>\n",
       "      <td id=\"T_d5331_row16_col2\" class=\"data row16 col2\" >$548,852.82</td>\n",
       "    </tr>\n",
       "    <tr>\n",
       "      <th id=\"T_d5331_level0_row17\" class=\"row_heading level0 row17\" >17</th>\n",
       "      <td id=\"T_d5331_row17_col0\" class=\"data row17 col0\" >18</td>\n",
       "      <td id=\"T_d5331_row17_col1\" class=\"data row17 col1\" >$130,331.04</td>\n",
       "      <td id=\"T_d5331_row17_col2\" class=\"data row17 col2\" >$608,878.22</td>\n",
       "    </tr>\n",
       "    <tr>\n",
       "      <th id=\"T_d5331_level0_row18\" class=\"row_heading level0 row18\" >18</th>\n",
       "      <td id=\"T_d5331_row18_col0\" class=\"data row18 col0\" >19</td>\n",
       "      <td id=\"T_d5331_row18_col1\" class=\"data row18 col1\" >$132,937.66</td>\n",
       "      <td id=\"T_d5331_row18_col2\" class=\"data row18 col2\" >$672,556.55</td>\n",
       "    </tr>\n",
       "    <tr>\n",
       "      <th id=\"T_d5331_level0_row19\" class=\"row_heading level0 row19\" >19</th>\n",
       "      <td id=\"T_d5331_row19_col0\" class=\"data row19 col0\" >20</td>\n",
       "      <td id=\"T_d5331_row19_col1\" class=\"data row19 col1\" >$155,935.88</td>\n",
       "      <td id=\"T_d5331_row19_col2\" class=\"data row19 col2\" >$745,168.34</td>\n",
       "    </tr>\n",
       "    <tr>\n",
       "      <th id=\"T_d5331_level0_row20\" class=\"row_heading level0 row20\" >20</th>\n",
       "      <td id=\"T_d5331_row20_col0\" class=\"data row20 col0\" >21</td>\n",
       "      <td id=\"T_d5331_row20_col1\" class=\"data row20 col1\" >$159,054.59</td>\n",
       "      <td id=\"T_d5331_row20_col2\" class=\"data row20 col2\" >$822,190.41</td>\n",
       "    </tr>\n",
       "    <tr>\n",
       "      <th id=\"T_d5331_level0_row21\" class=\"row_heading level0 row21\" >21</th>\n",
       "      <td id=\"T_d5331_row21_col0\" class=\"data row21 col0\" >22</td>\n",
       "      <td id=\"T_d5331_row21_col1\" class=\"data row21 col1\" >$162,235.69</td>\n",
       "      <td id=\"T_d5331_row21_col2\" class=\"data row21 col2\" >$903,858.85</td>\n",
       "    </tr>\n",
       "    <tr>\n",
       "      <th id=\"T_d5331_level0_row22\" class=\"row_heading level0 row22\" >22</th>\n",
       "      <td id=\"T_d5331_row22_col0\" class=\"data row22 col0\" >23</td>\n",
       "      <td id=\"T_d5331_row22_col1\" class=\"data row22 col1\" >$165,480.40</td>\n",
       "      <td id=\"T_d5331_row22_col2\" class=\"data row22 col2\" >$990,421.89</td>\n",
       "    </tr>\n",
       "    <tr>\n",
       "      <th id=\"T_d5331_level0_row23\" class=\"row_heading level0 row23\" >23</th>\n",
       "      <td id=\"T_d5331_row23_col0\" class=\"data row23 col0\" >24</td>\n",
       "      <td id=\"T_d5331_row23_col1\" class=\"data row23 col1\" >$168,790.01</td>\n",
       "      <td id=\"T_d5331_row23_col2\" class=\"data row23 col2\" >$1,082,140.49</td>\n",
       "    </tr>\n",
       "    <tr>\n",
       "      <th id=\"T_d5331_level0_row24\" class=\"row_heading level0 row24\" >24</th>\n",
       "      <td id=\"T_d5331_row24_col0\" class=\"data row24 col0\" >25</td>\n",
       "      <td id=\"T_d5331_row24_col1\" class=\"data row24 col1\" >$197,990.68</td>\n",
       "      <td id=\"T_d5331_row24_col2\" class=\"data row24 col2\" >$1,185,745.19</td>\n",
       "    </tr>\n",
       "    <tr>\n",
       "      <th id=\"T_d5331_level0_row25\" class=\"row_heading level0 row25\" >25</th>\n",
       "      <td id=\"T_d5331_row25_col0\" class=\"data row25 col0\" >26</td>\n",
       "      <td id=\"T_d5331_row25_col1\" class=\"data row25 col1\" >$201,950.49</td>\n",
       "      <td id=\"T_d5331_row25_col2\" class=\"data row25 col2\" >$1,295,520.07</td>\n",
       "    </tr>\n",
       "    <tr>\n",
       "      <th id=\"T_d5331_level0_row26\" class=\"row_heading level0 row26\" >26</th>\n",
       "      <td id=\"T_d5331_row26_col0\" class=\"data row26 col0\" >27</td>\n",
       "      <td id=\"T_d5331_row26_col1\" class=\"data row26 col1\" >$205,989.50</td>\n",
       "      <td id=\"T_d5331_row26_col2\" class=\"data row26 col2\" >$1,411,793.45</td>\n",
       "    </tr>\n",
       "    <tr>\n",
       "      <th id=\"T_d5331_level0_row27\" class=\"row_heading level0 row27\" >27</th>\n",
       "      <td id=\"T_d5331_row27_col0\" class=\"data row27 col0\" >28</td>\n",
       "      <td id=\"T_d5331_row27_col1\" class=\"data row27 col1\" >$210,109.29</td>\n",
       "      <td id=\"T_d5331_row27_col2\" class=\"data row27 col2\" >$1,534,910.44</td>\n",
       "    </tr>\n",
       "  </tbody>\n",
       "</table>\n"
      ],
      "text/plain": [
       "<pandas.io.formats.style.Styler at 0x2bba8c9c970>"
      ]
     },
     "execution_count": 11,
     "metadata": {},
     "output_type": "execute_result"
    }
   ],
   "source": [
    "df = get_salaries_wealths_df(model_data)\n",
    "styled_salaries_wealths(df)"
   ]
  },
  {
   "cell_type": "code",
   "execution_count": 12,
   "metadata": {},
   "outputs": [
    {
     "data": {
      "text/plain": [
       "<Axes: xlabel='Year'>"
      ]
     },
     "execution_count": 12,
     "metadata": {},
     "output_type": "execute_result"
    },
    {
     "data": {
      "image/png": "[encoded data removed]",
      "text/plain": [
       "<Figure size 640x480 with 1 Axes>"
      ]
     },
     "metadata": {},
     "output_type": "display_data"
    }
   ],
   "source": [
    "df.plot.line(x='Year', y='Wealth')"
   ]
  },
  {
   "cell_type": "code",
   "execution_count": 13,
   "metadata": {},
   "outputs": [
    {
     "data": {
      "text/plain": [
       "<Axes: xlabel='Year'>"
      ]
     },
     "execution_count": 13,
     "metadata": {},
     "output_type": "execute_result"
    },
    {
     "data": {
      "image/png": "[encoded data removed]",
      "text/plain": [
       "<Figure size 640x480 with 1 Axes>"
      ]
     },
     "metadata": {},
     "output_type": "display_data"
    }
   ],
   "source": [
    "df.plot.line(x='Year', y='Salary')"
   ]
  },
  {
   "cell_type": "code",
   "execution_count": 14,
   "metadata": {},
   "outputs": [
    {
     "data": {
      "text/plain": [
       "28"
      ]
     },
     "execution_count": 14,
     "metadata": {},
     "output_type": "execute_result"
    }
   ],
   "source": [
    "def years_to_retirement_separate_args(\n",
    "    starting_salary=60000, promos_every_n_years=5, cost_of_living_raise=0.02, \n",
    "    promo_raise=0.15, savings_rate=0.25, interest_rate=0.05, desired_cash=1500000\n",
    "):\n",
    "    data = ModelInputs(\n",
    "        starting_salary=starting_salary, \n",
    "        promos_every_n_years=promos_every_n_years, \n",
    "        cost_of_living_raise=cost_of_living_raise, \n",
    "        promo_raise=promo_raise, \n",
    "        savings_rate=savings_rate, \n",
    "        interest_rate=interest_rate, \n",
    "        desired_cash=desired_cash\n",
    "    )\n",
    "    \n",
    "    return years_to_retirement(data, print_output=False)\n",
    "\n",
    "years_to_retirement_separate_args()"
   ]
  },
  {
   "cell_type": "code",
   "execution_count": 15,
   "metadata": {},
   "outputs": [],
   "source": [
    "sensitivity_values = {\n",
    "    'starting_salary': [i * 10000 for i in range(4, 8)],\n",
    "    'promos_every_n_years': [i for i in range(4, 8)],\n",
    "    'cost_of_living_raise': [i/100 for i in range(1, 4)],\n",
    "    'promo_raise': [i/100 for i in range(10, 25, 5)],\n",
    "    'savings_rate': [i/100 for i in range(10, 50, 10)],\n",
    "    'interest_rate': [i/100 for i in range(3, 8)],\n",
    "    'desired_cash': [i * 100000 for i in range(10, 26, 5)]\n",
    "}"
   ]
  },
  {
   "cell_type": "code",
   "execution_count": 16,
   "metadata": {},
   "outputs": [
    {
     "name": "stderr",
     "output_type": "stream",
     "text": [
      "100%|██████████| 11520/11520 [00:08<00:00, 1356.30it/s]\n"
     ]
    }
   ],
   "source": [
    "sa = SensitivityAnalyzer(\n",
    "    sensitivity_values,\n",
    "    years_to_retirement_separate_args,\n",
    "    result_name='Years to Retirement',\n",
    "    reverse_colors=True,\n",
    "    grid_size=3\n",
    ")"
   ]
  },
  {
   "cell_type": "code",
   "execution_count": 17,
   "metadata": {},
   "outputs": [
    {
     "data": {
      "text/html": [
       "<div>\n",
       "<style scoped>\n",
       "    .dataframe tbody tr th:only-of-type {\n",
       "        vertical-align: middle;\n",
       "    }\n",
       "\n",
       "    .dataframe tbody tr th {\n",
       "        vertical-align: top;\n",
       "    }\n",
       "\n",
       "    .dataframe thead th {\n",
       "        text-align: right;\n",
       "    }\n",
       "</style>\n",
       "<table border=\"1\" class=\"dataframe\">\n",
       "  <thead>\n",
       "    <tr style=\"text-align: right;\">\n",
       "      <th></th>\n",
       "      <th>starting_salary</th>\n",
       "      <th>promos_every_n_years</th>\n",
       "      <th>cost_of_living_raise</th>\n",
       "      <th>promo_raise</th>\n",
       "      <th>savings_rate</th>\n",
       "      <th>interest_rate</th>\n",
       "      <th>desired_cash</th>\n",
       "      <th>Years to Retirement</th>\n",
       "    </tr>\n",
       "  </thead>\n",
       "  <tbody>\n",
       "    <tr>\n",
       "      <th>0</th>\n",
       "      <td>40000</td>\n",
       "      <td>4</td>\n",
       "      <td>0.01</td>\n",
       "      <td>0.1</td>\n",
       "      <td>0.1</td>\n",
       "      <td>0.03</td>\n",
       "      <td>1000000</td>\n",
       "      <td>52</td>\n",
       "    </tr>\n",
       "    <tr>\n",
       "      <th>1</th>\n",
       "      <td>40000</td>\n",
       "      <td>4</td>\n",
       "      <td>0.01</td>\n",
       "      <td>0.1</td>\n",
       "      <td>0.1</td>\n",
       "      <td>0.03</td>\n",
       "      <td>1500000</td>\n",
       "      <td>60</td>\n",
       "    </tr>\n",
       "    <tr>\n",
       "      <th>2</th>\n",
       "      <td>40000</td>\n",
       "      <td>4</td>\n",
       "      <td>0.01</td>\n",
       "      <td>0.1</td>\n",
       "      <td>0.1</td>\n",
       "      <td>0.03</td>\n",
       "      <td>2000000</td>\n",
       "      <td>66</td>\n",
       "    </tr>\n",
       "    <tr>\n",
       "      <th>3</th>\n",
       "      <td>40000</td>\n",
       "      <td>4</td>\n",
       "      <td>0.01</td>\n",
       "      <td>0.1</td>\n",
       "      <td>0.1</td>\n",
       "      <td>0.03</td>\n",
       "      <td>2500000</td>\n",
       "      <td>71</td>\n",
       "    </tr>\n",
       "    <tr>\n",
       "      <th>4</th>\n",
       "      <td>40000</td>\n",
       "      <td>4</td>\n",
       "      <td>0.01</td>\n",
       "      <td>0.1</td>\n",
       "      <td>0.1</td>\n",
       "      <td>0.04</td>\n",
       "      <td>1000000</td>\n",
       "      <td>47</td>\n",
       "    </tr>\n",
       "    <tr>\n",
       "      <th>...</th>\n",
       "      <td>...</td>\n",
       "      <td>...</td>\n",
       "      <td>...</td>\n",
       "      <td>...</td>\n",
       "      <td>...</td>\n",
       "      <td>...</td>\n",
       "      <td>...</td>\n",
       "      <td>...</td>\n",
       "    </tr>\n",
       "    <tr>\n",
       "      <th>11515</th>\n",
       "      <td>70000</td>\n",
       "      <td>7</td>\n",
       "      <td>0.03</td>\n",
       "      <td>0.2</td>\n",
       "      <td>0.4</td>\n",
       "      <td>0.06</td>\n",
       "      <td>2500000</td>\n",
       "      <td>25</td>\n",
       "    </tr>\n",
       "    <tr>\n",
       "      <th>11516</th>\n",
       "      <td>70000</td>\n",
       "      <td>7</td>\n",
       "      <td>0.03</td>\n",
       "      <td>0.2</td>\n",
       "      <td>0.4</td>\n",
       "      <td>0.07</td>\n",
       "      <td>1000000</td>\n",
       "      <td>16</td>\n",
       "    </tr>\n",
       "    <tr>\n",
       "      <th>11517</th>\n",
       "      <td>70000</td>\n",
       "      <td>7</td>\n",
       "      <td>0.03</td>\n",
       "      <td>0.2</td>\n",
       "      <td>0.4</td>\n",
       "      <td>0.07</td>\n",
       "      <td>1500000</td>\n",
       "      <td>19</td>\n",
       "    </tr>\n",
       "    <tr>\n",
       "      <th>11518</th>\n",
       "      <td>70000</td>\n",
       "      <td>7</td>\n",
       "      <td>0.03</td>\n",
       "      <td>0.2</td>\n",
       "      <td>0.4</td>\n",
       "      <td>0.07</td>\n",
       "      <td>2000000</td>\n",
       "      <td>22</td>\n",
       "    </tr>\n",
       "    <tr>\n",
       "      <th>11519</th>\n",
       "      <td>70000</td>\n",
       "      <td>7</td>\n",
       "      <td>0.03</td>\n",
       "      <td>0.2</td>\n",
       "      <td>0.4</td>\n",
       "      <td>0.07</td>\n",
       "      <td>2500000</td>\n",
       "      <td>24</td>\n",
       "    </tr>\n",
       "  </tbody>\n",
       "</table>\n",
       "<p>11520 rows × 8 columns</p>\n",
       "</div>"
      ],
      "text/plain": [
       "       starting_salary  promos_every_n_years  cost_of_living_raise  \\\n",
       "0                40000                     4                  0.01   \n",
       "1                40000                     4                  0.01   \n",
       "2                40000                     4                  0.01   \n",
       "3                40000                     4                  0.01   \n",
       "4                40000                     4                  0.01   \n",
       "...                ...                   ...                   ...   \n",
       "11515            70000                     7                  0.03   \n",
       "11516            70000                     7                  0.03   \n",
       "11517            70000                     7                  0.03   \n",
       "11518            70000                     7                  0.03   \n",
       "11519            70000                     7                  0.03   \n",
       "\n",
       "       promo_raise  savings_rate  interest_rate  desired_cash  \\\n",
       "0              0.1           0.1           0.03       1000000   \n",
       "1              0.1           0.1           0.03       1500000   \n",
       "2              0.1           0.1           0.03       2000000   \n",
       "3              0.1           0.1           0.03       2500000   \n",
       "4              0.1           0.1           0.04       1000000   \n",
       "...            ...           ...            ...           ...   \n",
       "11515          0.2           0.4           0.06       2500000   \n",
       "11516          0.2           0.4           0.07       1000000   \n",
       "11517          0.2           0.4           0.07       1500000   \n",
       "11518          0.2           0.4           0.07       2000000   \n",
       "11519          0.2           0.4           0.07       2500000   \n",
       "\n",
       "       Years to Retirement  \n",
       "0                       52  \n",
       "1                       60  \n",
       "2                       66  \n",
       "3                       71  \n",
       "4                       47  \n",
       "...                    ...  \n",
       "11515                   25  \n",
       "11516                   16  \n",
       "11517                   19  \n",
       "11518                   22  \n",
       "11519                   24  \n",
       "\n",
       "[11520 rows x 8 columns]"
      ]
     },
     "execution_count": 17,
     "metadata": {},
     "output_type": "execute_result"
    }
   ],
   "source": [
    "sa.df"
   ]
  },
  {
   "cell_type": "code",
   "execution_count": 18,
   "metadata": {},
   "outputs": [],
   "source": [
    "bad_economy_data = ModelInputs(\n",
    "    starting_salary=40000,\n",
    "    promos_every_n_years=8,\n",
    "    cost_of_living_raise=0.01,\n",
    "    promo_raise=0.07,\n",
    "    savings_rate=0.15,\n",
    "    interest_rate=0.03,\n",
    ")\n",
    "\n",
    "good_economy_data = ModelInputs(\n",
    "    starting_salary=70000,\n",
    "    promos_every_n_years=4,\n",
    "    cost_of_living_raise=0.03,\n",
    "    promo_raise=0.20,\n",
    "    savings_rate=0.35,\n",
    "    interest_rate=0.06,\n",
    ")\n",
    "\n",
    "cases = {\n",
    "    'Bad': bad_economy_data,\n",
    "    'Normal': model_data, # Original inputs were set to assume a normal economy\n",
    "    'Good': good_economy_data\n",
    "}"
   ]
  },
  {
   "cell_type": "code",
   "execution_count": 19,
   "metadata": {},
   "outputs": [
    {
     "name": "stdout",
     "output_type": "stream",
     "text": [
      "It would take 61 years to retire in a Bad economy.\n",
      "It would take 28 years to retire in a Normal economy.\n",
      "It would take 19 years to retire in a Good economy.\n"
     ]
    }
   ],
   "source": [
    "for case_type, case_inputs in cases.items():\n",
    "    ytr = years_to_retirement(case_inputs, print_output=False)\n",
    "    print(f'It would take {ytr} years to retire in a {case_type} economy.')"
   ]
  },
  {
   "cell_type": "code",
   "execution_count": 20,
   "metadata": {},
   "outputs": [
    {
     "name": "stdout",
     "output_type": "stream",
     "text": [
      "It would take 32 years to retire considering a 20% chance of a bad economy and 30% chance of a good economy.\n"
     ]
    }
   ],
   "source": [
    "case_probabilities = {\n",
    "    'Bad': 0.2,\n",
    "    'Normal': 0.5,\n",
    "    'Good': 0.3\n",
    "}\n",
    "\n",
    "# Take expected value over the cases\n",
    "expected_ytr = 0\n",
    "for case_type, case_inputs in cases.items():\n",
    "    ytr = years_to_retirement(case_inputs, print_output=False)\n",
    "    weighted_ytr = ytr * case_probabilities[case_type]\n",
    "    expected_ytr += weighted_ytr\n",
    "print(f'It would take {expected_ytr:.0f} years to retire considering a {case_probabilities[\"Bad\"]:.0%} chance of a bad economy and {case_probabilities[\"Good\"]:.0%} chance of a good economy.')"
   ]
  }
 ],
 "metadata": {
  "kernelspec": {
   "display_name": "qntdev",
   "language": "python",
   "name": "python3"
  },
  "language_info": {
   "codemirror_mode": {
    "name": "ipython",
    "version": 3
   },
   "file_extension": ".py",
   "mimetype": "text/x-python",
   "name": "python",
   "nbconvert_exporter": "python",
   "pygments_lexer": "ipython3",
   "version": "3.10.14"
  }
 },
 "nbformat": 4,
 "nbformat_minor": 2
}
