{
 "cells": [
  {
   "cell_type": "code",
   "execution_count": 1,
   "id": "702e155d",
   "metadata": {},
   "outputs": [],
   "source": [
    "import pandas as pd\n",
    "import numpy as np\n",
    "import matplotlib.pyplot as plt"
   ]
  },
  {
   "cell_type": "code",
   "execution_count": 2,
   "id": "2b85be9f",
   "metadata": {},
   "outputs": [],
   "source": [
    "import edhec_risk_kit_111 as erk"
   ]
  },
  {
   "cell_type": "code",
   "execution_count": 3,
   "id": "ed360e43",
   "metadata": {},
   "outputs": [
    {
     "data": {
      "text/html": [
       "<div>\n",
       "<style scoped>\n",
       "    .dataframe tbody tr th:only-of-type {\n",
       "        vertical-align: middle;\n",
       "    }\n",
       "\n",
       "    .dataframe tbody tr th {\n",
       "        vertical-align: top;\n",
       "    }\n",
       "\n",
       "    .dataframe thead th {\n",
       "        text-align: right;\n",
       "    }\n",
       "</style>\n",
       "<table border=\"1\" class=\"dataframe\">\n",
       "  <thead>\n",
       "    <tr style=\"text-align: right;\">\n",
       "      <th></th>\n",
       "      <th>Food</th>\n",
       "      <th>Beer</th>\n",
       "      <th>Smoke</th>\n",
       "      <th>Games</th>\n",
       "      <th>Books</th>\n",
       "      <th>Hshld</th>\n",
       "      <th>Clths</th>\n",
       "      <th>Hlth</th>\n",
       "      <th>Chems</th>\n",
       "      <th>Txtls</th>\n",
       "      <th>...</th>\n",
       "      <th>Telcm</th>\n",
       "      <th>Servs</th>\n",
       "      <th>BusEq</th>\n",
       "      <th>Paper</th>\n",
       "      <th>Trans</th>\n",
       "      <th>Whlsl</th>\n",
       "      <th>Rtail</th>\n",
       "      <th>Meals</th>\n",
       "      <th>Fin</th>\n",
       "      <th>Other</th>\n",
       "    </tr>\n",
       "  </thead>\n",
       "  <tbody>\n",
       "    <tr>\n",
       "      <th>1926-07</th>\n",
       "      <td>0.0056</td>\n",
       "      <td>-0.0519</td>\n",
       "      <td>0.0129</td>\n",
       "      <td>0.0293</td>\n",
       "      <td>0.1097</td>\n",
       "      <td>-0.0048</td>\n",
       "      <td>0.0808</td>\n",
       "      <td>0.0177</td>\n",
       "      <td>0.0814</td>\n",
       "      <td>0.0039</td>\n",
       "      <td>...</td>\n",
       "      <td>0.0083</td>\n",
       "      <td>0.0922</td>\n",
       "      <td>0.0206</td>\n",
       "      <td>0.0770</td>\n",
       "      <td>0.0193</td>\n",
       "      <td>-0.2379</td>\n",
       "      <td>0.0007</td>\n",
       "      <td>0.0187</td>\n",
       "      <td>0.0037</td>\n",
       "      <td>0.0520</td>\n",
       "    </tr>\n",
       "    <tr>\n",
       "      <th>1926-08</th>\n",
       "      <td>0.0259</td>\n",
       "      <td>0.2703</td>\n",
       "      <td>0.0650</td>\n",
       "      <td>0.0055</td>\n",
       "      <td>0.1001</td>\n",
       "      <td>-0.0358</td>\n",
       "      <td>-0.0251</td>\n",
       "      <td>0.0425</td>\n",
       "      <td>0.0550</td>\n",
       "      <td>0.0814</td>\n",
       "      <td>...</td>\n",
       "      <td>0.0217</td>\n",
       "      <td>0.0202</td>\n",
       "      <td>0.0439</td>\n",
       "      <td>-0.0238</td>\n",
       "      <td>0.0488</td>\n",
       "      <td>0.0539</td>\n",
       "      <td>-0.0075</td>\n",
       "      <td>-0.0013</td>\n",
       "      <td>0.0446</td>\n",
       "      <td>0.0676</td>\n",
       "    </tr>\n",
       "    <tr>\n",
       "      <th>1926-09</th>\n",
       "      <td>0.0116</td>\n",
       "      <td>0.0402</td>\n",
       "      <td>0.0126</td>\n",
       "      <td>0.0658</td>\n",
       "      <td>-0.0099</td>\n",
       "      <td>0.0073</td>\n",
       "      <td>-0.0051</td>\n",
       "      <td>0.0069</td>\n",
       "      <td>0.0533</td>\n",
       "      <td>0.0231</td>\n",
       "      <td>...</td>\n",
       "      <td>0.0241</td>\n",
       "      <td>0.0225</td>\n",
       "      <td>0.0019</td>\n",
       "      <td>-0.0554</td>\n",
       "      <td>0.0005</td>\n",
       "      <td>-0.0787</td>\n",
       "      <td>0.0025</td>\n",
       "      <td>-0.0056</td>\n",
       "      <td>-0.0123</td>\n",
       "      <td>-0.0386</td>\n",
       "    </tr>\n",
       "    <tr>\n",
       "      <th>1926-10</th>\n",
       "      <td>-0.0306</td>\n",
       "      <td>-0.0331</td>\n",
       "      <td>0.0106</td>\n",
       "      <td>-0.0476</td>\n",
       "      <td>0.0947</td>\n",
       "      <td>-0.0468</td>\n",
       "      <td>0.0012</td>\n",
       "      <td>-0.0057</td>\n",
       "      <td>-0.0476</td>\n",
       "      <td>0.0100</td>\n",
       "      <td>...</td>\n",
       "      <td>-0.0011</td>\n",
       "      <td>-0.0200</td>\n",
       "      <td>-0.0109</td>\n",
       "      <td>-0.0508</td>\n",
       "      <td>-0.0264</td>\n",
       "      <td>-0.1538</td>\n",
       "      <td>-0.0220</td>\n",
       "      <td>-0.0411</td>\n",
       "      <td>-0.0516</td>\n",
       "      <td>-0.0849</td>\n",
       "    </tr>\n",
       "    <tr>\n",
       "      <th>1926-11</th>\n",
       "      <td>0.0635</td>\n",
       "      <td>0.0729</td>\n",
       "      <td>0.0455</td>\n",
       "      <td>0.0166</td>\n",
       "      <td>-0.0580</td>\n",
       "      <td>-0.0054</td>\n",
       "      <td>0.0187</td>\n",
       "      <td>0.0542</td>\n",
       "      <td>0.0520</td>\n",
       "      <td>0.0311</td>\n",
       "      <td>...</td>\n",
       "      <td>0.0163</td>\n",
       "      <td>0.0377</td>\n",
       "      <td>0.0364</td>\n",
       "      <td>0.0384</td>\n",
       "      <td>0.0160</td>\n",
       "      <td>0.0467</td>\n",
       "      <td>0.0652</td>\n",
       "      <td>0.0433</td>\n",
       "      <td>0.0224</td>\n",
       "      <td>0.0400</td>\n",
       "    </tr>\n",
       "  </tbody>\n",
       "</table>\n",
       "<p>5 rows × 30 columns</p>\n",
       "</div>"
      ],
      "text/plain": [
       "          Food    Beer    Smoke   Games   Books   Hshld   Clths   Hlth   \\\n",
       "1926-07  0.0056 -0.0519  0.0129  0.0293  0.1097 -0.0048  0.0808  0.0177   \n",
       "1926-08  0.0259  0.2703  0.0650  0.0055  0.1001 -0.0358 -0.0251  0.0425   \n",
       "1926-09  0.0116  0.0402  0.0126  0.0658 -0.0099  0.0073 -0.0051  0.0069   \n",
       "1926-10 -0.0306 -0.0331  0.0106 -0.0476  0.0947 -0.0468  0.0012 -0.0057   \n",
       "1926-11  0.0635  0.0729  0.0455  0.0166 -0.0580 -0.0054  0.0187  0.0542   \n",
       "\n",
       "          Chems   Txtls  ...   Telcm   Servs   BusEq   Paper   Trans   Whlsl  \\\n",
       "1926-07  0.0814  0.0039  ...  0.0083  0.0922  0.0206  0.0770  0.0193 -0.2379   \n",
       "1926-08  0.0550  0.0814  ...  0.0217  0.0202  0.0439 -0.0238  0.0488  0.0539   \n",
       "1926-09  0.0533  0.0231  ...  0.0241  0.0225  0.0019 -0.0554  0.0005 -0.0787   \n",
       "1926-10 -0.0476  0.0100  ... -0.0011 -0.0200 -0.0109 -0.0508 -0.0264 -0.1538   \n",
       "1926-11  0.0520  0.0311  ...  0.0163  0.0377  0.0364  0.0384  0.0160  0.0467   \n",
       "\n",
       "          Rtail   Meals   Fin     Other  \n",
       "1926-07  0.0007  0.0187  0.0037  0.0520  \n",
       "1926-08 -0.0075 -0.0013  0.0446  0.0676  \n",
       "1926-09  0.0025 -0.0056 -0.0123 -0.0386  \n",
       "1926-10 -0.0220 -0.0411 -0.0516 -0.0849  \n",
       "1926-11  0.0652  0.0433  0.0224  0.0400  \n",
       "\n",
       "[5 rows x 30 columns]"
      ]
     },
     "execution_count": 3,
     "metadata": {},
     "output_type": "execute_result"
    }
   ],
   "source": [
    "ind = pd.read_csv(\"ind30_m_vw_rets.csv\", header=0, index_col=0)/100\n",
    "ind.index = pd.to_datetime(ind.index, format=\"%Y%m\").to_period('M')\n",
    "ind.head()"
   ]
  },
  {
   "cell_type": "code",
   "execution_count": 4,
   "id": "1d6a7bce",
   "metadata": {},
   "outputs": [
    {
     "data": {
      "text/plain": [
       "Index(['Food ', 'Beer ', 'Smoke', 'Games', 'Books', 'Hshld', 'Clths', 'Hlth ',\n",
       "       'Chems', 'Txtls', 'Cnstr', 'Steel', 'FabPr', 'ElcEq', 'Autos', 'Carry',\n",
       "       'Mines', 'Coal ', 'Oil  ', 'Util ', 'Telcm', 'Servs', 'BusEq', 'Paper',\n",
       "       'Trans', 'Whlsl', 'Rtail', 'Meals', 'Fin  ', 'Other'],\n",
       "      dtype='object')"
      ]
     },
     "execution_count": 4,
     "metadata": {},
     "output_type": "execute_result"
    }
   ],
   "source": [
    "ind.columns"
   ]
  },
  {
   "cell_type": "code",
   "execution_count": 5,
   "id": "2927175f",
   "metadata": {},
   "outputs": [],
   "source": [
    "ind.columns = ind.columns.str.strip()"
   ]
  },
  {
   "cell_type": "code",
   "execution_count": 6,
   "id": "f199bc8c",
   "metadata": {},
   "outputs": [
    {
     "data": {
      "text/plain": [
       "Index(['Food', 'Beer', 'Smoke', 'Games', 'Books', 'Hshld', 'Clths', 'Hlth',\n",
       "       'Chems', 'Txtls', 'Cnstr', 'Steel', 'FabPr', 'ElcEq', 'Autos', 'Carry',\n",
       "       'Mines', 'Coal', 'Oil', 'Util', 'Telcm', 'Servs', 'BusEq', 'Paper',\n",
       "       'Trans', 'Whlsl', 'Rtail', 'Meals', 'Fin', 'Other'],\n",
       "      dtype='object')"
      ]
     },
     "execution_count": 6,
     "metadata": {},
     "output_type": "execute_result"
    }
   ],
   "source": [
    "ind.columns"
   ]
  },
  {
   "cell_type": "markdown",
   "id": "5eecdb13",
   "metadata": {},
   "source": [
    "# Portfolio returns and risk"
   ]
  },
  {
   "cell_type": "code",
   "execution_count": 7,
   "id": "52ae243e",
   "metadata": {},
   "outputs": [],
   "source": [
    "#Expected annualised returns\n",
    "er = erk.annualize_rets(ind['2010':'2018'], 12)"
   ]
  },
  {
   "cell_type": "code",
   "execution_count": 8,
   "id": "47bf9e47",
   "metadata": {},
   "outputs": [
    {
     "data": {
      "text/plain": [
       "<Axes: >"
      ]
     },
     "execution_count": 8,
     "metadata": {},
     "output_type": "execute_result"
    },
    {
     "data": {
      "image/png": "[encoded data removed]",
      "text/plain": [
       "<Figure size 640x480 with 1 Axes>"
      ]
     },
     "metadata": {},
     "output_type": "display_data"
    }
   ],
   "source": [
    "er.sort_values().plot.bar()"
   ]
  },
  {
   "cell_type": "code",
   "execution_count": 9,
   "id": "7d52212f",
   "metadata": {},
   "outputs": [],
   "source": [
    "#Expected annualised covariance matrix\n",
    "cov = ind['2010':'2018'].cov()*np.sqrt(12)"
   ]
  },
  {
   "cell_type": "code",
   "execution_count": 10,
   "id": "fe8e15f2",
   "metadata": {},
   "outputs": [],
   "source": [
    "l = ['Books','Steel','Oil','Mines']"
   ]
  },
  {
   "cell_type": "code",
   "execution_count": 11,
   "id": "8800ae62",
   "metadata": {},
   "outputs": [
    {
     "data": {
      "text/plain": [
       "Books    0.042187\n",
       "Steel   -0.003574\n",
       "Oil      0.021380\n",
       "Mines   -0.027938\n",
       "dtype: float64"
      ]
     },
     "execution_count": 11,
     "metadata": {},
     "output_type": "execute_result"
    }
   ],
   "source": [
    "er[l]"
   ]
  },
  {
   "cell_type": "code",
   "execution_count": 12,
   "id": "20be57c4",
   "metadata": {},
   "outputs": [
    {
     "data": {
      "text/html": [
       "<div>\n",
       "<style scoped>\n",
       "    .dataframe tbody tr th:only-of-type {\n",
       "        vertical-align: middle;\n",
       "    }\n",
       "\n",
       "    .dataframe tbody tr th {\n",
       "        vertical-align: top;\n",
       "    }\n",
       "\n",
       "    .dataframe thead th {\n",
       "        text-align: right;\n",
       "    }\n",
       "</style>\n",
       "<table border=\"1\" class=\"dataframe\">\n",
       "  <thead>\n",
       "    <tr style=\"text-align: right;\">\n",
       "      <th></th>\n",
       "      <th>Books</th>\n",
       "      <th>Steel</th>\n",
       "      <th>Oil</th>\n",
       "      <th>Mines</th>\n",
       "    </tr>\n",
       "  </thead>\n",
       "  <tbody>\n",
       "    <tr>\n",
       "      <th>Books</th>\n",
       "      <td>0.010274</td>\n",
       "      <td>0.009091</td>\n",
       "      <td>0.007495</td>\n",
       "      <td>0.007186</td>\n",
       "    </tr>\n",
       "    <tr>\n",
       "      <th>Steel</th>\n",
       "      <td>0.009091</td>\n",
       "      <td>0.018553</td>\n",
       "      <td>0.010522</td>\n",
       "      <td>0.014647</td>\n",
       "    </tr>\n",
       "    <tr>\n",
       "      <th>Oil</th>\n",
       "      <td>0.007495</td>\n",
       "      <td>0.010522</td>\n",
       "      <td>0.011552</td>\n",
       "      <td>0.009552</td>\n",
       "    </tr>\n",
       "    <tr>\n",
       "      <th>Mines</th>\n",
       "      <td>0.007186</td>\n",
       "      <td>0.014647</td>\n",
       "      <td>0.009552</td>\n",
       "      <td>0.020041</td>\n",
       "    </tr>\n",
       "  </tbody>\n",
       "</table>\n",
       "</div>"
      ],
      "text/plain": [
       "          Books     Steel       Oil     Mines\n",
       "Books  0.010274  0.009091  0.007495  0.007186\n",
       "Steel  0.009091  0.018553  0.010522  0.014647\n",
       "Oil    0.007495  0.010522  0.011552  0.009552\n",
       "Mines  0.007186  0.014647  0.009552  0.020041"
      ]
     },
     "execution_count": 12,
     "metadata": {},
     "output_type": "execute_result"
    }
   ],
   "source": [
    "cov.loc[l,l]"
   ]
  },
  {
   "cell_type": "code",
   "execution_count": 13,
   "id": "f2cdd9b4",
   "metadata": {},
   "outputs": [
    {
     "data": {
      "text/plain": [
       "array([0.25, 0.25, 0.25, 0.25])"
      ]
     },
     "execution_count": 13,
     "metadata": {},
     "output_type": "execute_result"
    }
   ],
   "source": [
    "#Create an equally weighted portfolio\n",
    "ew_weights = np.repeat(0.25,4)\n",
    "ew_weights"
   ]
  },
  {
   "cell_type": "code",
   "execution_count": 14,
   "id": "412f65da",
   "metadata": {},
   "outputs": [
    {
     "data": {
      "text/plain": [
       "0.008013944157836572"
      ]
     },
     "execution_count": 14,
     "metadata": {},
     "output_type": "execute_result"
    }
   ],
   "source": [
    "erk.portfolio_return(ew_weights, er[l])"
   ]
  },
  {
   "cell_type": "code",
   "execution_count": 15,
   "id": "38627cd9",
   "metadata": {},
   "outputs": [
    {
     "data": {
      "text/plain": [
       "0.10529910823699892"
      ]
     },
     "execution_count": 15,
     "metadata": {},
     "output_type": "execute_result"
    }
   ],
   "source": [
    "erk.portfolio_vol(ew_weights, cov.loc[l,l])"
   ]
  },
  {
   "cell_type": "markdown",
   "id": "3ae2c832",
   "metadata": {},
   "source": [
    "# The 2-asset case\n",
    "This is a very simple case as the weights of the second asset is simly 1 - weight of the 1st asset."
   ]
  },
  {
   "cell_type": "code",
   "execution_count": 16,
   "id": "9f779718",
   "metadata": {},
   "outputs": [],
   "source": [
    "l = ['Food','Fun']"
   ]
  },
  {
   "cell_type": "code",
   "execution_count": 17,
   "id": "6120be41",
   "metadata": {},
   "outputs": [],
   "source": [
    "n_points = 21\n",
    "weights =[np.array([w,1-w]) for w in np.linspace(-0.5,1.5,n_points)]"
   ]
  },
  {
   "cell_type": "code",
   "execution_count": 18,
   "id": "8ecb4c58",
   "metadata": {},
   "outputs": [],
   "source": [
    "rets = [erk.portfolio_return(w,er[l]) for w in weights]\n",
    "vols = [erk.portfolio_vol(w, cov.loc[l,l]) for w in weights]\n",
    "ef = pd.DataFrame({'Returns': rets, 'Volatility': vols})"
   ]
  },
  {
   "cell_type": "code",
   "execution_count": 19,
   "id": "b7825397",
   "metadata": {},
   "outputs": [
    {
     "data": {
      "text/plain": [
       "<Axes: xlabel='Volatility', ylabel='Returns'>"
      ]
     },
     "execution_count": 19,
     "metadata": {},
     "output_type": "execute_result"
    },
    {
     "data": {
      "image/png": "[encoded data removed]",
      "text/plain": [
       "<Figure size 640x480 with 1 Axes>"
      ]
     },
     "metadata": {},
     "output_type": "display_data"
    }
   ],
   "source": [
    "ef.plot.scatter(x=\"Volatility\",y=\"Returns\")"
   ]
  },
  {
   "cell_type": "markdown",
   "id": "7e320b7a",
   "metadata": {},
   "source": [
    "# Multiple assets (No risk free rate)"
   ]
  },
  {
   "cell_type": "code",
   "execution_count": 21,
   "id": "7dfb0e75",
   "metadata": {},
   "outputs": [],
   "source": [
    "l = ['Books','Steel','Oil','Mines']"
   ]
  },
  {
   "cell_type": "code",
   "execution_count": 26,
   "id": "e7459cd4",
   "metadata": {},
   "outputs": [
    {
     "data": {
      "text/plain": [
       "array([1.00000000e+00, 3.29847799e-17, 1.42528120e-12, 3.48300562e-18])"
      ]
     },
     "execution_count": 26,
     "metadata": {},
     "output_type": "execute_result"
    }
   ],
   "source": [
    "weights15 = erk.minimize_vol(0.10, er[l], cov.loc[l,l])\n",
    "weights15"
   ]
  },
  {
   "cell_type": "code",
   "execution_count": 27,
   "id": "02ddeb86",
   "metadata": {},
   "outputs": [
    {
     "name": "stdout",
     "output_type": "stream",
     "text": [
      "Assets         Optimal Weights\n",
      "Books   :         100.00%\n",
      "Steel   :           0.00%\n",
      "Oil     :           0.00%\n",
      "Mines   :           0.00%\n"
     ]
    }
   ],
   "source": [
    "print(f\"{'Assets':<15}{'Optimal Weights'}\")\n",
    "for ticker,weight in zip(l,weights15):\n",
    "    print(f'{ticker:<8}:{\"\":<5}{weight*100:>10,.2f}%')"
   ]
  },
  {
   "cell_type": "code",
   "execution_count": 23,
   "id": "9c4e534b",
   "metadata": {},
   "outputs": [
    {
     "data": {
      "text/plain": [
       "0.14999999985817009"
      ]
     },
     "execution_count": 23,
     "metadata": {},
     "output_type": "execute_result"
    }
   ],
   "source": [
    "erk.portfolio_return(weights15,er[l])"
   ]
  },
  {
   "cell_type": "code",
   "execution_count": 24,
   "id": "565d3626",
   "metadata": {},
   "outputs": [
    {
     "data": {
      "text/plain": [
       "0.06426476009278215"
      ]
     },
     "execution_count": 24,
     "metadata": {},
     "output_type": "execute_result"
    }
   ],
   "source": [
    "erk.portfolio_vol(weights15,cov.loc[l,l])"
   ]
  },
  {
   "cell_type": "code",
   "execution_count": 25,
   "id": "42ef72e8",
   "metadata": {},
   "outputs": [
    {
     "data": {
      "image/png": "[encoded data removed]",
      "text/plain": [
       "<Figure size 640x480 with 1 Axes>"
      ]
     },
     "metadata": {},
     "output_type": "display_data"
    }
   ],
   "source": [
    "erk.plot_ef(100, er[l], cov.loc[l,l])"
   ]
  },
  {
   "cell_type": "markdown",
   "id": "66ff065c",
   "metadata": {},
   "source": [
    "# With a risk free rate"
   ]
  },
  {
   "cell_type": "code",
   "execution_count": 28,
   "id": "70317b57",
   "metadata": {},
   "outputs": [
    {
     "name": "stdout",
     "output_type": "stream",
     "text": [
      "Assets         Optimal Weights of the Tangency portfolio\n",
      "Books   :         100.00%\n",
      "Steel   :           0.00%\n",
      "Oil     :           0.00%\n",
      "Mines   :           0.00%\n"
     ]
    }
   ],
   "source": [
    "#Determine the tangency portfolio\n",
    "weights_tangency = erk.msr(0.05, er[l], cov.loc[l,l])\n",
    "print(f\"{'Assets':<15}{'Optimal Weights of the Tangency portfolio'}\")\n",
    "for ticker,weight in zip(l,weights_tangency):\n",
    "    print(f'{ticker:<8}:{\"\":<5}{weight*100:>10,.2f}%')"
   ]
  },
  {
   "cell_type": "code",
   "execution_count": 29,
   "id": "f5927920",
   "metadata": {},
   "outputs": [
    {
     "name": "stdout",
     "output_type": "stream",
     "text": [
      "The optimal tangency portfolio has an expected returns of 4.22% and a volatility of 10.14%.\n"
     ]
    }
   ],
   "source": [
    "return_tangency = erk.portfolio_return(weights_tangency,er[l])\n",
    "vol_tangency = erk.portfolio_vol(weights_tangency,cov.loc[l,l])\n",
    "print(f'The optimal tangency portfolio has an expected returns of \\\n",
    "{return_tangency*100:.2f}% and a volatility of {vol_tangency*100:.2f}%.')"
   ]
  },
  {
   "cell_type": "code",
   "execution_count": 31,
   "id": "0e33e7c8",
   "metadata": {},
   "outputs": [
    {
     "data": {
      "image/png": "[encoded data removed]",
      "text/plain": [
       "<Figure size 640x480 with 1 Axes>"
      ]
     },
     "metadata": {},
     "output_type": "display_data"
    }
   ],
   "source": [
    "erk.plot_ef(100, er[l], cov.loc[l,l], style='.-', legend=False, show_cml=True, riskfree_rate=0.05)"
   ]
  },
  {
   "cell_type": "code",
   "execution_count": 33,
   "id": "289c9ca5",
   "metadata": {},
   "outputs": [
    {
     "name": "stdout",
     "output_type": "stream",
     "text": [
      "Assets         Optimal Weights of the GMV portfolio\n",
      "Food    :          38.52%\n",
      "Beer    :          48.63%\n",
      "Fun     :           1.17%\n",
      "Banks   :          11.68%\n"
     ]
    }
   ],
   "source": [
    "#Determine the GMV porfolio\n",
    "weights_gmv = erk.gmv(cov.loc[l,l])\n",
    "print(f\"{'Assets':<15}{'Optimal Weights of the GMV portfolio'}\")\n",
    "for ticker,weight in zip(l,weights_gmv):\n",
    "    print(f'{ticker:<8}:{\"\":<5}{weight*100:>10,.2f}%')"
   ]
  },
  {
   "cell_type": "code",
   "execution_count": 34,
   "id": "6fa75630",
   "metadata": {},
   "outputs": [
    {
     "name": "stdout",
     "output_type": "stream",
     "text": [
      "The optimal GMV portfolio has an expected returns of 11.36% and a volatility of 5.51%.\n"
     ]
    }
   ],
   "source": [
    "return_gmv = erk.portfolio_return(weights_gmv,er[l])\n",
    "vol_gmv = erk.portfolio_vol(weights_gmv,cov.loc[l,l])\n",
    "print(f'The optimal GMV portfolio has an expected returns of \\\n",
    "{return_gmv*100:.2f}% and a volatility of {vol_gmv*100:.2f}%.')"
   ]
  },
  {
   "cell_type": "code",
   "execution_count": 35,
   "id": "3c3ca0cb",
   "metadata": {},
   "outputs": [
    {
     "data": {
      "text/plain": [
       "<Axes: xlabel='Volatility'>"
      ]
     },
     "execution_count": 35,
     "metadata": {},
     "output_type": "execute_result"
    },
    {
     "data": {
      "image/png": "[encoded data removed]",
      "text/plain": [
       "<Figure size 640x480 with 1 Axes>"
      ]
     },
     "metadata": {},
     "output_type": "display_data"
    }
   ],
   "source": [
    "erk.plot_ef(100, er[l], cov.loc[l,l], style='.-', legend=False, show_cml=True, riskfree_rate=0.05, show_ew=True, show_gmv=True)"
   ]
  },
  {
   "cell_type": "code",
   "execution_count": 36,
   "id": "40f912af",
   "metadata": {},
   "outputs": [
    {
     "name": "stdout",
     "output_type": "stream",
     "text": [
      "Assets         Optimal Weights, r = 20%, no rf\n",
      "Food    :           0.00%\n",
      "Beer    :           9.22%\n",
      "Fun     :          90.78%\n",
      "Banks   :           0.00%\n"
     ]
    }
   ],
   "source": [
    "#Determine optimal portfolio with a target of return of 20% and no rf\n",
    "weights20 = erk.minimize_vol(0.2, er[l], cov.loc[l,l])\n",
    "print(f\"{'Assets':<15}{'Optimal Weights, r = 20%, no rf'}\")\n",
    "for ticker,weight in zip(l,weights20):\n",
    "    print(f'{ticker:<8}:{\"\":<5}{weight*100:>10,.2f}%')"
   ]
  },
  {
   "cell_type": "code",
   "execution_count": 47,
   "id": "95deab2c",
   "metadata": {},
   "outputs": [
    {
     "data": {
      "text/plain": [
       "0.1185664564151761"
      ]
     },
     "execution_count": 47,
     "metadata": {},
     "output_type": "execute_result"
    }
   ],
   "source": [
    "return_20 = erk.portfolio_return(weights20,er[l])\n",
    "vol_20 = erk.portfolio_vol(weights20,cov.loc[l,l])\n",
    "vol_20"
   ]
  },
  {
   "cell_type": "code",
   "execution_count": 37,
   "id": "ce823483",
   "metadata": {},
   "outputs": [],
   "source": [
    "def msr_target_return(target_return, riskfree_rate, er, cov):\n",
    "    \"\"\"\n",
    "    Returns the weights of the portfolio that gives you the maximum sharpe ratio\n",
    "    given the riskfree rate, target return and expected returns and a covariance matrix\n",
    "    \"\"\"\n",
    "    n = er.shape[0]\n",
    "    init_guess = np.repeat(1/n, n)\n",
    "    bounds = ((0.0, 1.0),) * n # an N-tuple of 2-tuples!\n",
    "    # construct the constraints\n",
    "    weights_sum_to_1 = {'type': 'eq',\n",
    "                        'fun': lambda weights: np.sum(weights) - 1\n",
    "    }\n",
    "    def neg_sharpe(weights, riskfree_rate, er, cov):\n",
    "        \"\"\"\n",
    "        Returns the negative of the sharpe ratio\n",
    "        of the given portfolio\n",
    "        \"\"\"\n",
    "        r = erk.portfolio_return(weights, er)\n",
    "        vol = erk.portfolio_vol(weights, cov)\n",
    "        return -(r - riskfree_rate)/vol\n",
    "    \n",
    "    tangency_weights = minimize(neg_sharpe, init_guess,\n",
    "                       args=(riskfree_rate, er, cov), method='SLSQP',\n",
    "                       options={'disp': False},\n",
    "                       constraints=(weights_sum_to_1,),\n",
    "                       bounds=bounds)\n",
    "    tangency_weights = tangency_weights.x\n",
    "    tangency_return = erk.portfolio_return(tangency_weights,er)\n",
    "    p_weights = (target_return - riskfree_rate)/(tangency_return - riskfree_rate)\n",
    "    asset_weights = p_weights * tangency_weights\n",
    "    return asset_weights"
   ]
  },
  {
   "cell_type": "code",
   "execution_count": 39,
   "id": "7fefbf26",
   "metadata": {},
   "outputs": [
    {
     "name": "stdout",
     "output_type": "stream",
     "text": [
      "Assets         Optimal Weights, r = 20%, no rf\n",
      "Food    :           0.00%\n",
      "Beer    :         101.04%\n",
      "Fun     :          47.67%\n",
      "Banks   :           0.00%\n"
     ]
    }
   ],
   "source": [
    "from scipy.optimize import minimize\n",
    "weights20rf=msr_target_return(0.2, 0.05, er[l], cov.loc[l,l])\n",
    "print(f\"{'Assets':<15}{'Optimal Weights, r = 20%, no rf'}\")\n",
    "for ticker,weight in zip(l,weights20rf):\n",
    "    print(f'{ticker:<8}:{\"\":<5}{weight*100:>10,.2f}%')"
   ]
  },
  {
   "cell_type": "code",
   "execution_count": 40,
   "id": "7645abdc",
   "metadata": {},
   "outputs": [
    {
     "data": {
      "text/plain": [
       "0.20000000000000004"
      ]
     },
     "execution_count": 40,
     "metadata": {},
     "output_type": "execute_result"
    }
   ],
   "source": [
    "#Double check!\n",
    "return_20_rf = weights20rf.sum()*return_tangency + (1-weights20rf.sum())*0.05\n",
    "return_20_rf"
   ]
  },
  {
   "cell_type": "code",
   "execution_count": 44,
   "id": "d5f46dde",
   "metadata": {},
   "outputs": [
    {
     "name": "stdout",
     "output_type": "stream",
     "text": [
      "The optimal portfolio, target r = 20% with rf has an expected returns of 20.00% and a volatility of 9.64%.\n"
     ]
    }
   ],
   "source": [
    "vol_20_rf = weights20rf.sum()*vol_tangency\n",
    "print(f'The optimal portfolio, target r = 20% with rf has an expected returns \\\n",
    "of {return_20_rf*100:.2f}% and a volatility of {vol_20_rf*100:.2f}%.')"
   ]
  },
  {
   "cell_type": "code",
   "execution_count": 48,
   "id": "44ccd36d",
   "metadata": {},
   "outputs": [
    {
     "name": "stdout",
     "output_type": "stream",
     "text": [
      "The optimal portfolio, target r = 20% with no rf has an expected returns of 20.00% and a volatility of 11.86%.\n"
     ]
    }
   ],
   "source": [
    "print(f'The optimal portfolio, target r = 20% with no rf has an expected returns \\\n",
    "of {return_20*100:.2f}% and a volatility of {vol_20*100:.2f}%.')"
   ]
  },
  {
   "cell_type": "code",
   "execution_count": null,
   "id": "98db56a0",
   "metadata": {},
   "outputs": [],
   "source": []
  }
 ],
 "metadata": {
  "kernelspec": {
   "display_name": "qntdev",
   "language": "python",
   "name": "python3"
  },
  "language_info": {
   "codemirror_mode": {
    "name": "ipython",
    "version": 3
   },
   "file_extension": ".py",
   "mimetype": "text/x-python",
   "name": "python",
   "nbconvert_exporter": "python",
   "pygments_lexer": "ipython3",
   "version": "3.10.14"
  }
 },
 "nbformat": 4,
 "nbformat_minor": 5
}
